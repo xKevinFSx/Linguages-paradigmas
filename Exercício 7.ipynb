{
 "cells": [
  {
   "cell_type": "markdown",
   "metadata": {},
   "source": [
    "1 Defina a função soma_nat que recebe como argumento um número natural n e devolve a soma de todos os números naturais até n.\n",
    "Ex: soma_nat(5) = 15"
   ]
  },
  {
   "cell_type": "code",
   "execution_count": 74,
   "metadata": {},
   "outputs": [],
   "source": [
    "soma_nat = lambda n: n + soma_nat(n-1) if n > 1 else 1\n",
    "\n",
    "assert(soma_nat(5) == 15)"
   ]
  },
  {
   "cell_type": "markdown",
   "metadata": {},
   "source": [
    "2 Defina a função div que recebe como argumentos dois números naturais m\n",
    "e n e devolve o resultado da divisão inteira de m por n. Neste exercício você não\n",
    "pode recorrer às operações aritméticas de multiplicação, divisão e resto da divisão inteira.\n",
    "Ex: div(7,2) = 3"
   ]
  },
  {
   "cell_type": "code",
   "execution_count": 76,
   "metadata": {},
   "outputs": [
    {
     "name": "stdout",
     "output_type": "stream",
     "text": [
      "3\n"
     ]
    }
   ],
   "source": [
    "div = lambda m, n: 0 if m - n < 1 else 1 + div(m-n, n)\n",
    "\n",
    "assert(div(7,2) == 3)\n"
   ]
  },
  {
   "cell_type": "markdown",
   "metadata": {},
   "source": [
    "3 Defina a função prim_alg que recebe como argumento um número natural e devolve o primeiro algarismo (o mais significativo) na representação decimal de n.\n",
    "Ex: prim_alg(5649) = 5 \n",
    "Ex: prim_alg(7) = 7"
   ]
  },
  {
   "cell_type": "code",
   "execution_count": 85,
   "metadata": {},
   "outputs": [],
   "source": [
    "def prim_alg(n):\n",
    "    if isinstance(n, int) and n >= 0:\n",
    "        ext = str(n)\n",
    "        return ext[0:1]\n",
    "    else:\n",
    "         pass\n",
    "assert(prim_alg(5649))"
   ]
  },
  {
   "cell_type": "markdown",
   "metadata": {},
   "source": [
    "4 Defina a função prod_lista que recebe como argumento uma lista de inteiros e devolve o produto dos seus elementos.\n",
    "Ex: prod_lista([1,2,3,4,5,6]) = 720"
   ]
  },
  {
   "cell_type": "code",
   "execution_count": 86,
   "metadata": {},
   "outputs": [],
   "source": [
    "prod_lista = lambda n: n[0] * prod_lista(n[1:]) if len(n) > 1 else n[0]\n",
    "\n",
    "assert(prod_lista([1,2,3,4,5,6]) == 720)"
   ]
  },
  {
   "cell_type": "markdown",
   "metadata": {},
   "source": [
    "5 Defina a função contem_parQ que recebe como argumento uma lista de números inteiros w e devolve True se w contém um número par e False em caso contrário.\n",
    "Ex: contem_parQ([2,3,1,2,3,4]) = True \n",
    "Ex: contem_parQ([1,3,5,7]) = False"
   ]
  },
  {
   "cell_type": "code",
   "execution_count": 79,
   "metadata": {},
   "outputs": [],
   "source": [
    "contem_par = lambda w: bool([1 for x in w if x % 2 == 0])\n",
    "\n",
    "assert(contem_par([2,3,1,2,3,4]) == True)\n",
    "assert(contem_par([1,3,5,7]) == False)"
   ]
  },
  {
   "cell_type": "markdown",
   "metadata": {},
   "source": [
    "6 Defina a função todos_imparesQ que recebe como argumento uma lista de números inteiros w e devolve True se w contém apenas números ímpares e False em caso contrário.\n",
    "Ex: todos_imparesQ([1,3,5,7]) = True \n",
    "Ex: todos_imparesQ([]) = True\n",
    "Ex: todos_imparesQ([1,2,3,4,5]) = False"
   ]
  },
  {
   "cell_type": "code",
   "execution_count": 80,
   "metadata": {},
   "outputs": [],
   "source": [
    "todos_impares = lambda w: len(w) == sum([ 1 for x in w if x % 2 != 0])\n",
    "\n",
    "assert(todos_impares([1,3,5,7]) == True)\n",
    "assert(todos_impares([]) == True)\n",
    "assert(todos_impares([1,2,3,4,5]) == False)"
   ]
  },
  {
   "cell_type": "markdown",
   "metadata": {},
   "source": [
    "7 Defina a função pertenceQ que recebe como argumentos uma lista de números inteiros w e um número inteiro n e devolve True se n ocorre em w e False em caso contrário.\n",
    "Ex: pertenceQ([1,2,3],1) = True \n",
    "Ex: pertenceQ([1,2,3],2) = True \n",
    "Ex: pertenceQ([1,2,3],3) = True \n",
    "Ex: pertenceQ([1,2,3],4) = False"
   ]
  },
  {
   "cell_type": "code",
   "execution_count": 81,
   "metadata": {},
   "outputs": [],
   "source": [
    "pertence = lambda w, n: n in w\n",
    "\n",
    "assert(pertence([1,2,3],1) == True)\n",
    "assert(pertence([1,2,3],2) == True)\n",
    "assert(pertence([1,2,3],3) == True)\n",
    "assert(pertence([1,2,3],4) == False)"
   ]
  },
  {
   "cell_type": "markdown",
   "metadata": {},
   "source": [
    "8 Defina a função junta que recebe como argumentos duas listas de números inteiros w1 e w2 e devolve a concatenação de w1 com w2 .\n",
    "Ex: junta([1,2,3],[4,5,6]) = [1, 2, 3, 4, 5, 6] \n",
    "Ex: junta([],[4,5,6]) = [4, 5, 6]\n",
    "Ex: junta([1,2,3],[]) = [1, 2, 3]"
   ]
  },
  {
   "cell_type": "code",
   "execution_count": 82,
   "metadata": {},
   "outputs": [],
   "source": [
    "junta = lambda w1, w2: w1 + w2\n",
    "\n",
    "assert(junta([1,2,3],[4,5,6]) == [1, 2, 3, 4, 5, 6])\n",
    "assert(junta([],[4,5,6]) == [4, 5, 6])\n",
    "assert(junta([1,2,3],[]) == [1, 2, 3])"
   ]
  },
  {
   "cell_type": "markdown",
   "metadata": {},
   "source": [
    "9 Defina a função temPrimoQ que recebe como argumento uma lista de listas de números inteiros w e devolve True se alguma das sublistas w tem um número primo e False em caso contrário.\n",
    "Ex: temPrimoQ([[4,4,4,4],[5,4,6,7],[2,4,3]]) = True \n",
    "Ex: temPrimoQ([[4,4,4,4],[4,4,4],[],[4]]) = False"
   ]
  },
  {
   "cell_type": "code",
   "execution_count": 89,
   "metadata": {},
   "outputs": [],
   "source": [
    "temPrimo = lambda w: bool([1 for x in w for n in x if (n % 2 != 0 and n % 3 != 0 and n % 5 != 0 and n % 7 != 0 and n % 11 != 0) or n in [2,3,5,7,11]])\n",
    "\n",
    "assert(temPrimo([[4,4,4,4],[5,4,6,7],[2,4,3]]) == True)\n",
    "assert(temPrimo([[4,4,4,4],[4,4,4],[],[4]]) == False)\n"
   ]
  },
  {
   "cell_type": "markdown",
   "metadata": {},
   "source": [
    "10 Defina a função inverteLista que recebe como argumento uma lista w e devolve a mesma lista mas invertida.\n",
    "Ex: inverteLista([1,2,3,4,5]) = [5, 4, 3, 2, 1] \n",
    "Ex: inverteLista([])"
   ]
  },
  {
   "cell_type": "code",
   "execution_count": 87,
   "metadata": {},
   "outputs": [
    {
     "name": "stdout",
     "output_type": "stream",
     "text": [
      "[5, 4, 3, 2, 1]\n"
     ]
    }
   ],
   "source": [
    "inverteLista = lambda w: w[::-1]\n",
    "\n",
    "assert((inverteLista([1,2,3,4,5])) == [5, 4, 3, 2, 1])\n",
    "assert(inverteLista([]) == [])\n"
   ]
  },
  {
   "cell_type": "code",
   "execution_count": null,
   "metadata": {},
   "outputs": [],
   "source": []
  }
 ],
 "metadata": {
  "kernelspec": {
   "display_name": "Python 3",
   "language": "python",
   "name": "python3"
  },
  "language_info": {
   "codemirror_mode": {
    "name": "ipython",
    "version": 3
   },
   "file_extension": ".py",
   "mimetype": "text/x-python",
   "name": "python",
   "nbconvert_exporter": "python",
   "pygments_lexer": "ipython3",
   "version": "3.7.1"
  }
 },
 "nbformat": 4,
 "nbformat_minor": 2
}
