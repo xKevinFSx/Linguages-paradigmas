{
 "cells": [
  {
   "cell_type": "markdown",
   "metadata": {},
   "source": [
    "1 Faça um Programa que peça o raio de um círculo, calcule e mostre sua área.\n"
   ]
  },
  {
   "cell_type": "code",
   "execution_count": null,
   "metadata": {
    "scrolled": true
   },
   "outputs": [],
   "source": [
    "import math\n",
    "raio = int(input (\"Digite o raio\"))\n",
    "#type (raio)\n",
    "area = math.pi * (raio ** 2)\n",
    "print (f'A área do círculo de raio {raio} é {area:{5}.{2}}')"
   ]
  },
  {
   "cell_type": "markdown",
   "metadata": {},
   "source": [
    "2 Faça um Programa que calcule a área de um quadrado, em seguida mostre o dobro desta área para o usuário."
   ]
  },
  {
   "cell_type": "code",
   "execution_count": null,
   "metadata": {},
   "outputs": [],
   "source": [
    "altura = int(input(\"Digite a Altura do quadrado\"))\n",
    "largura = int(input(\"Digite a Largura do quadrado \"))\n",
    "total = altura * largura \n",
    "print(f'O Dobro da area e', total * 2,'Metros')"
   ]
  },
  {
   "cell_type": "markdown",
   "metadata": {},
   "source": [
    "3 Faça um Programa que pergunte quanto você ganha por hora e o número de horas trabalhadas no mês. Calcule e mostre o total do seu salário no referido mês."
   ]
  },
  {
   "cell_type": "code",
   "execution_count": null,
   "metadata": {},
   "outputs": [],
   "source": [
    "valor_hora = float (input (\"Digite o valor da hora\"))\n",
    "numero_horas = float (input (\"Digite a quantidade de horas trabalhadas\"))\n",
    "total = valor_hora * numero_horas\n",
    "print ('Com valor de hora %.2f e tendo trabalhado %.2f horas, você ganhará %.2f\\n' % (valor_hora, numero_horas, total))"
   ]
  },
  {
   "cell_type": "markdown",
   "metadata": {},
   "source": [
    "4 Faça um Programa que peça a temperatura em graus Farenheit, transforme e mostre a temperatura em graus Celsius. C = (5 * (F-32) / 9).\n"
   ]
  },
  {
   "cell_type": "code",
   "execution_count": null,
   "metadata": {},
   "outputs": [],
   "source": [
    "temperatura = float(input(\"Digite a temepratura em Farenheit\"))\n",
    "trans = 5 * (temperatura - 32) / 9\n",
    "print('Esta', trans,'Celsius')"
   ]
  },
  {
   "cell_type": "markdown",
   "metadata": {},
   "source": [
    "5 Faça um Programa que peça a temperatura em graus Celsius, transforme e mostre em graus Farenheit."
   ]
  },
  {
   "cell_type": "code",
   "execution_count": null,
   "metadata": {},
   "outputs": [],
   "source": [
    "temp = float(input(\"Digite a temperatura em Celsius\"))\n",
    "f = 9 * temp /5  + 32\n",
    "print('Esta',f,\"farenheit\")"
   ]
  },
  {
   "cell_type": "markdown",
   "metadata": {},
   "source": [
    "6 Faça um Programa que peça 2 números inteiros e um número real. Calcule e mostre:\n",
    "- o produto do dobro do primeiro com metade do segundo. \n",
    "- a soma do triplo do primeiro com o terceiro.\n",
    "- o terceiro elevado ao cubo."
   ]
  },
  {
   "cell_type": "code",
   "execution_count": null,
   "metadata": {},
   "outputs": [],
   "source": [
    "pri = int(input(\"Digite o primeiro numero\"))\n",
    "seg = int(input(\"Digite o segundo numero\"))\n",
    "ter = float(input(\"Digite o terceiro numero\"))\n",
    "produto = pri * 2 * (seg /2)\n",
    "print('o produto do dobro do primeiro com metade do segundo e',produto)\n",
    "soma = pri * 3 + ter\n",
    "print('a soma do tripo do primeiro com o terceiro e', soma)\n",
    "elevado = ter ** 3 \n",
    "print('o terceiro elevado ao cubo',elevado)"
   ]
  },
  {
   "cell_type": "markdown",
   "metadata": {},
   "source": [
    "7 João Papo-de-Pescador, homem de bem, comprou um microcomputador para controlar o rendimento diário de seu trabalho. Toda vez que ele traz um peso de peixes maior que o estabelecido pelo regulamento de pesca do estado de São Paulo (50 quilos) deve pagar uma multa de R$ 4,00 por quilo excedente. João precisa que você faça um programa que leia a variável peso (peso de peixes) e verifique se há excesso. Se houver, gravar na variável excesso e na variável multa o valor da multa que João deverá pagar. Caso contrário mostrar tais variáveis com o conteúdo ZERO."
   ]
  },
  {
   "cell_type": "code",
   "execution_count": null,
   "metadata": {},
   "outputs": [],
   "source": [
    "peso_peixes = float (input (\"Digite o peso de peixes\"))\n",
    "excesso = 0\n",
    "multa = 0\n",
    "if peso_peixes > 50:\n",
    "    excesso = peso_peixes - 50\n",
    "    multa = 4 * excesso\n",
    "print ('Excesso: {}, Multa: {}'.format(excesso, multa))"
   ]
  },
  {
   "cell_type": "markdown",
   "metadata": {},
   "source": [
    "8 Faça um Programa que pergunte quanto você ganha por hora e o número de horas trabalhadas no mês. Calcule e mostre o total do seu salário no referido mês, sabendo-se que são descontados 11% para o Imposto de Renda, 8% para o INSS e 5% para o sindicato, faça um programa que nos dê:\n",
    "- salário bruto.\n",
    "- quanto pagou ao INSS.\n",
    "- quanto pagou ao sindicato.\n",
    "- o salário líquido.\n",
    "- calcule os descontos e o salário líquido, conforme a tabela abaixo:\n",
    "+ Salário Bruto : R$ -IR(11%):R$ \n",
    "-INSS(8%):R$\n",
    "- Sindicato ( 5%) : R$ = Salário Liquido : R$\n",
    "Obs.: Salário Bruto - Descontos = Salário Líquido."
   ]
  },
  {
   "cell_type": "code",
   "execution_count": null,
   "metadata": {},
   "outputs": [],
   "source": [
    "salario = float(input(\"Quanto voce ganha por Hora ?\"))\n",
    "horas_trabalhadas = float(input(\"Qual seu numero de horas trabalhadas no mes ?\"))\n",
    "bruto = salario * horas_trabalhadas\n",
    "print('Voce recebe exatos',bruto,'por mes')\n",
    "ir = bruto * 0.11\n",
    "print('voce paga',ir,\"de imposto de renda\")\n",
    "inss = bruto * 0.08\n",
    "print('voce paga',inss,\"de imposto de inss\")\n",
    "sindicato = bruto * 0.05\n",
    "print('voce paga',sindicato,\"de imposto de sindicato\")\n",
    "liquido = (bruto - inss - sindicato - ir)\n",
    "print('Sobra',liquido,\"de salario\")"
   ]
  },
  {
   "cell_type": "markdown",
   "metadata": {},
   "source": [
    "9 Faça um programa que leia 2 strings e informe o conteúdo delas seguido do seu comprimento. Informe também se as duas strings possuem o mesmo comprimento e são iguais ou diferentes no conteúdo.\n",
    "Exemplo:\n",
    "String 1: Brasil Hexa 2018\n",
    "String 2: Brasil! Hexa 2018!\n",
    "Tamanho de \"Brasil Hexa 2018\": 16 caracteres Tamanho de \"Brasil! Hexa 2018!\": 18 caracteres As duas strings são de tamanhos diferentes.\n",
    "As duas strings possuem conteúdo diferente."
   ]
  },
  {
   "cell_type": "code",
   "execution_count": null,
   "metadata": {},
   "outputs": [],
   "source": []
  },
  {
   "cell_type": "markdown",
   "metadata": {},
   "source": [
    "10 Faça um programa que permita ao usuário digitar o seu nome e em seguida mostre o nome do usuário de trás para frente utilizando somente letras maiúsculas. Dica: lembre−se que ao informar o nome o usuário pode digitar letras maiúsculas ou minúsculas. Observação: não use loops."
   ]
  },
  {
   "cell_type": "code",
   "execution_count": null,
   "metadata": {},
   "outputs": [],
   "source": [
    "nome = \"\"\n",
    "s = \"\" \n",
    "\n",
    "nome = input(\"Informe o nome:\")\n",
    "\n",
    "for letra in reversed(nome):\n",
    "   s+=letra\n",
    "print(s.upper())"
   ]
  },
  {
   "cell_type": "markdown",
   "metadata": {},
   "source": [
    "11 Faça um programa que solicite a data de nascimento (dd/mm/aaaa) do usuário e imprima a data com o nome do mês por extenso.\n",
    "Data de Nascimento: 29/10/1973\n",
    "Você nasceu em 29 de Outubro de 1973. Obs.: Não use desvio condicional nem loops."
   ]
  },
  {
   "cell_type": "code",
   "execution_count": null,
   "metadata": {},
   "outputs": [],
   "source": [
    "def data (dia,mes,ano):\n",
    "  \n",
    "  if mes == \"01\" or mes == 1:\n",
    "    mes = \"Janeiro\"\n",
    "  elif mes == \"02\" or mes == 2:\n",
    "    mes = \"Fevereiro\"\n",
    "  elif mes == \"03\" or mes == 3:\n",
    "    mes = \"Março\"\n",
    "  elif mes == \"04\" or mes == 4:\n",
    "    mes = \"Abril\"\n",
    "  elif mes == \"05\" or mes == 5:\n",
    "    mes = \"Maio\"\n",
    "  elif mes == \"06\" or mes == 6:\n",
    "    mes = \"Junho\"\n",
    "  elif mes == \"07\" or mes == 7:\n",
    "    mes = \"Julho\"\n",
    "  elif mes == \"08\" or mes == 8:\n",
    "    mes == \"Agosto\"\n",
    "  elif mes == \"09\" or mes == 9:\n",
    "    mes = \"Setembro\"\n",
    "  elif mes == \"10\" :\n",
    "    mes = \"Outubro\"\n",
    "  elif mes == \"11\" :\n",
    "    mes = \"Novembro\"\n",
    "  elif mes == \"12\" :\n",
    "    mes = \"Dezembro\"\n",
    "  \n",
    "  salvo = print (\"Você nasceu em \",dia,\" de \",mes,\" de \",ano)\n",
    "  return salvo\n",
    "   \n",
    "dia=int(input(\"Dia:\"))\n",
    "mes=int(input(\"Mês:\"))\n",
    "ano=int(input(\"Ano:\"))\n",
    "print (data(dia,mes,ano))\n",
    "  "
   ]
  },
  {
   "cell_type": "markdown",
   "metadata": {},
   "source": [
    "12 Leet é uma forma de se escrever o alfabeto latino usando outros símbolos em lugar das letras, como números por exemplo. A própria palavra leet admite muitas variações, como l33t ou 1337. O uso do leet reflete uma subcultura relacionada ao mundo dos jogos de computador e internet, sendo muito usada para confundir os iniciantes e afirmar-se como parte de um grupo. Pesquise sobre as principais formas de traduzir as letras. Depois, faça um programa que peça uma texto e transforme-o para a grafia leet speak.\n",
    "Desafio: não use loops nem desvios condicionais."
   ]
  },
  {
   "cell_type": "code",
   "execution_count": null,
   "metadata": {},
   "outputs": [],
   "source": []
  }
 ],
 "metadata": {
  "kernelspec": {
   "display_name": "Python 3",
   "language": "python",
   "name": "python3"
  },
  "language_info": {
   "codemirror_mode": {
    "name": "ipython",
    "version": 3
   },
   "file_extension": ".py",
   "mimetype": "text/x-python",
   "name": "python",
   "nbconvert_exporter": "python",
   "pygments_lexer": "ipython3",
   "version": "3.7.1"
  }
 },
 "nbformat": 4,
 "nbformat_minor": 2
}
